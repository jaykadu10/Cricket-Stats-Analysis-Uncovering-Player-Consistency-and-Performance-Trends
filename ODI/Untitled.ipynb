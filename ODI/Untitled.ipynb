{
 "cells": [
  {
   "cell_type": "code",
   "execution_count": 11,
   "id": "57dbc54a-b845-4ea7-a2ea-56e043d0caf3",
   "metadata": {},
   "outputs": [],
   "source": [
    "import pandas as pd\n",
    "import seaborn as sns"
   ]
  },
  {
   "cell_type": "code",
   "execution_count": 5,
   "id": "fb0939be-8301-433d-8377-7fc397373b74",
   "metadata": {},
   "outputs": [],
   "source": [
    "df=pd.read_csv(\"./AllFormat.csv\")"
   ]
  },
  {
   "cell_type": "code",
   "execution_count": 7,
   "id": "a9104145-fca9-4423-a646-ba62e317eae5",
   "metadata": {},
   "outputs": [
    {
     "data": {
      "text/html": [
       "<div>\n",
       "<style scoped>\n",
       "    .dataframe tbody tr th:only-of-type {\n",
       "        vertical-align: middle;\n",
       "    }\n",
       "\n",
       "    .dataframe tbody tr th {\n",
       "        vertical-align: top;\n",
       "    }\n",
       "\n",
       "    .dataframe thead th {\n",
       "        text-align: right;\n",
       "    }\n",
       "</style>\n",
       "<table border=\"1\" class=\"dataframe\">\n",
       "  <thead>\n",
       "    <tr style=\"text-align: right;\">\n",
       "      <th></th>\n",
       "      <th>Unnamed: 0</th>\n",
       "      <th>Country</th>\n",
       "      <th>Player</th>\n",
       "      <th>Matches</th>\n",
       "      <th>Innings</th>\n",
       "      <th>Not_Out</th>\n",
       "      <th>Runs</th>\n",
       "      <th>Highest_score</th>\n",
       "      <th>Average</th>\n",
       "      <th>Ball_Faced</th>\n",
       "      <th>Strike_Rate</th>\n",
       "      <th>Hundreds</th>\n",
       "      <th>Fiftys</th>\n",
       "      <th>Zeros</th>\n",
       "      <th>Fours</th>\n",
       "      <th>Sixes</th>\n",
       "      <th>Start_Year</th>\n",
       "      <th>End/Current_Year</th>\n",
       "      <th>Format</th>\n",
       "      <th>Careerspan</th>\n",
       "    </tr>\n",
       "  </thead>\n",
       "  <tbody>\n",
       "    <tr>\n",
       "      <th>0</th>\n",
       "      <td>0</td>\n",
       "      <td>India</td>\n",
       "      <td>SR Tendulkar</td>\n",
       "      <td>463</td>\n",
       "      <td>452</td>\n",
       "      <td>41</td>\n",
       "      <td>18426</td>\n",
       "      <td>200</td>\n",
       "      <td>44.83</td>\n",
       "      <td>21368</td>\n",
       "      <td>86.23</td>\n",
       "      <td>49</td>\n",
       "      <td>96</td>\n",
       "      <td>20</td>\n",
       "      <td>2016</td>\n",
       "      <td>195</td>\n",
       "      <td>1989</td>\n",
       "      <td>2012</td>\n",
       "      <td>ODI</td>\n",
       "      <td>23</td>\n",
       "    </tr>\n",
       "    <tr>\n",
       "      <th>1</th>\n",
       "      <td>1</td>\n",
       "      <td>India</td>\n",
       "      <td>V Kohli</td>\n",
       "      <td>302</td>\n",
       "      <td>290</td>\n",
       "      <td>45</td>\n",
       "      <td>14181</td>\n",
       "      <td>183</td>\n",
       "      <td>57.88</td>\n",
       "      <td>15192</td>\n",
       "      <td>93.34</td>\n",
       "      <td>51</td>\n",
       "      <td>74</td>\n",
       "      <td>16</td>\n",
       "      <td>1325</td>\n",
       "      <td>152</td>\n",
       "      <td>2008</td>\n",
       "      <td>2025</td>\n",
       "      <td>ODI</td>\n",
       "      <td>17</td>\n",
       "    </tr>\n",
       "    <tr>\n",
       "      <th>2</th>\n",
       "      <td>2</td>\n",
       "      <td>India</td>\n",
       "      <td>SC Ganguly</td>\n",
       "      <td>308</td>\n",
       "      <td>297</td>\n",
       "      <td>23</td>\n",
       "      <td>11221</td>\n",
       "      <td>183</td>\n",
       "      <td>40.95</td>\n",
       "      <td>15235</td>\n",
       "      <td>73.65</td>\n",
       "      <td>22</td>\n",
       "      <td>71</td>\n",
       "      <td>16</td>\n",
       "      <td>1104</td>\n",
       "      <td>189</td>\n",
       "      <td>1992</td>\n",
       "      <td>2007</td>\n",
       "      <td>ODI</td>\n",
       "      <td>15</td>\n",
       "    </tr>\n",
       "    <tr>\n",
       "      <th>3</th>\n",
       "      <td>3</td>\n",
       "      <td>India</td>\n",
       "      <td>RG Sharma</td>\n",
       "      <td>273</td>\n",
       "      <td>265</td>\n",
       "      <td>36</td>\n",
       "      <td>11168</td>\n",
       "      <td>264</td>\n",
       "      <td>48.76</td>\n",
       "      <td>12034</td>\n",
       "      <td>92.80</td>\n",
       "      <td>32</td>\n",
       "      <td>58</td>\n",
       "      <td>16</td>\n",
       "      <td>1045</td>\n",
       "      <td>344</td>\n",
       "      <td>2007</td>\n",
       "      <td>2025</td>\n",
       "      <td>ODI</td>\n",
       "      <td>18</td>\n",
       "    </tr>\n",
       "    <tr>\n",
       "      <th>4</th>\n",
       "      <td>4</td>\n",
       "      <td>India</td>\n",
       "      <td>R Dravid</td>\n",
       "      <td>340</td>\n",
       "      <td>314</td>\n",
       "      <td>39</td>\n",
       "      <td>10768</td>\n",
       "      <td>153</td>\n",
       "      <td>39.15</td>\n",
       "      <td>15127</td>\n",
       "      <td>71.18</td>\n",
       "      <td>12</td>\n",
       "      <td>82</td>\n",
       "      <td>13</td>\n",
       "      <td>942</td>\n",
       "      <td>42</td>\n",
       "      <td>1996</td>\n",
       "      <td>2011</td>\n",
       "      <td>ODI</td>\n",
       "      <td>15</td>\n",
       "    </tr>\n",
       "    <tr>\n",
       "      <th>...</th>\n",
       "      <td>...</td>\n",
       "      <td>...</td>\n",
       "      <td>...</td>\n",
       "      <td>...</td>\n",
       "      <td>...</td>\n",
       "      <td>...</td>\n",
       "      <td>...</td>\n",
       "      <td>...</td>\n",
       "      <td>...</td>\n",
       "      <td>...</td>\n",
       "      <td>...</td>\n",
       "      <td>...</td>\n",
       "      <td>...</td>\n",
       "      <td>...</td>\n",
       "      <td>...</td>\n",
       "      <td>...</td>\n",
       "      <td>...</td>\n",
       "      <td>...</td>\n",
       "      <td>...</td>\n",
       "      <td>...</td>\n",
       "    </tr>\n",
       "    <tr>\n",
       "      <th>3648</th>\n",
       "      <td>3648</td>\n",
       "      <td>Afghanistan</td>\n",
       "      <td>Dawlat Ahmadzai</td>\n",
       "      <td>2</td>\n",
       "      <td>1</td>\n",
       "      <td>1</td>\n",
       "      <td>2</td>\n",
       "      <td>2</td>\n",
       "      <td>0.00</td>\n",
       "      <td>3</td>\n",
       "      <td>66.66</td>\n",
       "      <td>0</td>\n",
       "      <td>0</td>\n",
       "      <td>0</td>\n",
       "      <td>0</td>\n",
       "      <td>0</td>\n",
       "      <td>2010</td>\n",
       "      <td>2010</td>\n",
       "      <td>T20</td>\n",
       "      <td>0</td>\n",
       "    </tr>\n",
       "    <tr>\n",
       "      <th>3649</th>\n",
       "      <td>3649</td>\n",
       "      <td>Afghanistan</td>\n",
       "      <td>Aftab Alam</td>\n",
       "      <td>12</td>\n",
       "      <td>5</td>\n",
       "      <td>3</td>\n",
       "      <td>2</td>\n",
       "      <td>1</td>\n",
       "      <td>1.00</td>\n",
       "      <td>9</td>\n",
       "      <td>22.22</td>\n",
       "      <td>0</td>\n",
       "      <td>0</td>\n",
       "      <td>1</td>\n",
       "      <td>0</td>\n",
       "      <td>0</td>\n",
       "      <td>2012</td>\n",
       "      <td>2018</td>\n",
       "      <td>T20</td>\n",
       "      <td>6</td>\n",
       "    </tr>\n",
       "    <tr>\n",
       "      <th>3650</th>\n",
       "      <td>3650</td>\n",
       "      <td>Afghanistan</td>\n",
       "      <td>Yamin Ahmadzai</td>\n",
       "      <td>2</td>\n",
       "      <td>1</td>\n",
       "      <td>1</td>\n",
       "      <td>1</td>\n",
       "      <td>1</td>\n",
       "      <td>0.00</td>\n",
       "      <td>1</td>\n",
       "      <td>100.00</td>\n",
       "      <td>0</td>\n",
       "      <td>0</td>\n",
       "      <td>0</td>\n",
       "      <td>0</td>\n",
       "      <td>0</td>\n",
       "      <td>2015</td>\n",
       "      <td>2015</td>\n",
       "      <td>T20</td>\n",
       "      <td>0</td>\n",
       "    </tr>\n",
       "    <tr>\n",
       "      <th>3651</th>\n",
       "      <td>3651</td>\n",
       "      <td>Afghanistan</td>\n",
       "      <td>Sayed Shirzad</td>\n",
       "      <td>4</td>\n",
       "      <td>1</td>\n",
       "      <td>0</td>\n",
       "      <td>1</td>\n",
       "      <td>1</td>\n",
       "      <td>1.00</td>\n",
       "      <td>2</td>\n",
       "      <td>50.00</td>\n",
       "      <td>0</td>\n",
       "      <td>0</td>\n",
       "      <td>0</td>\n",
       "      <td>0</td>\n",
       "      <td>0</td>\n",
       "      <td>2015</td>\n",
       "      <td>2019</td>\n",
       "      <td>T20</td>\n",
       "      <td>4</td>\n",
       "    </tr>\n",
       "    <tr>\n",
       "      <th>3652</th>\n",
       "      <td>3652</td>\n",
       "      <td>Afghanistan</td>\n",
       "      <td>M Nasim Baras</td>\n",
       "      <td>3</td>\n",
       "      <td>1</td>\n",
       "      <td>0</td>\n",
       "      <td>1</td>\n",
       "      <td>1</td>\n",
       "      <td>1.00</td>\n",
       "      <td>2</td>\n",
       "      <td>50.00</td>\n",
       "      <td>0</td>\n",
       "      <td>0</td>\n",
       "      <td>0</td>\n",
       "      <td>0</td>\n",
       "      <td>0</td>\n",
       "      <td>2015</td>\n",
       "      <td>2015</td>\n",
       "      <td>T20</td>\n",
       "      <td>0</td>\n",
       "    </tr>\n",
       "  </tbody>\n",
       "</table>\n",
       "<p>3653 rows × 20 columns</p>\n",
       "</div>"
      ],
      "text/plain": [
       "      Unnamed: 0      Country           Player  Matches  Innings  Not_Out  \\\n",
       "0              0        India     SR Tendulkar      463      452       41   \n",
       "1              1        India          V Kohli      302      290       45   \n",
       "2              2        India       SC Ganguly      308      297       23   \n",
       "3              3        India        RG Sharma      273      265       36   \n",
       "4              4        India         R Dravid      340      314       39   \n",
       "...          ...          ...              ...      ...      ...      ...   \n",
       "3648        3648  Afghanistan  Dawlat Ahmadzai        2        1        1   \n",
       "3649        3649  Afghanistan       Aftab Alam       12        5        3   \n",
       "3650        3650  Afghanistan   Yamin Ahmadzai        2        1        1   \n",
       "3651        3651  Afghanistan    Sayed Shirzad        4        1        0   \n",
       "3652        3652  Afghanistan    M Nasim Baras        3        1        0   \n",
       "\n",
       "       Runs  Highest_score  Average  Ball_Faced  Strike_Rate  Hundreds  \\\n",
       "0     18426            200    44.83       21368        86.23        49   \n",
       "1     14181            183    57.88       15192        93.34        51   \n",
       "2     11221            183    40.95       15235        73.65        22   \n",
       "3     11168            264    48.76       12034        92.80        32   \n",
       "4     10768            153    39.15       15127        71.18        12   \n",
       "...     ...            ...      ...         ...          ...       ...   \n",
       "3648      2              2     0.00           3        66.66         0   \n",
       "3649      2              1     1.00           9        22.22         0   \n",
       "3650      1              1     0.00           1       100.00         0   \n",
       "3651      1              1     1.00           2        50.00         0   \n",
       "3652      1              1     1.00           2        50.00         0   \n",
       "\n",
       "      Fiftys  Zeros  Fours  Sixes  Start_Year  End/Current_Year Format  \\\n",
       "0         96     20   2016    195        1989              2012    ODI   \n",
       "1         74     16   1325    152        2008              2025    ODI   \n",
       "2         71     16   1104    189        1992              2007    ODI   \n",
       "3         58     16   1045    344        2007              2025    ODI   \n",
       "4         82     13    942     42        1996              2011    ODI   \n",
       "...      ...    ...    ...    ...         ...               ...    ...   \n",
       "3648       0      0      0      0        2010              2010    T20   \n",
       "3649       0      1      0      0        2012              2018    T20   \n",
       "3650       0      0      0      0        2015              2015    T20   \n",
       "3651       0      0      0      0        2015              2019    T20   \n",
       "3652       0      0      0      0        2015              2015    T20   \n",
       "\n",
       "      Careerspan  \n",
       "0             23  \n",
       "1             17  \n",
       "2             15  \n",
       "3             18  \n",
       "4             15  \n",
       "...          ...  \n",
       "3648           0  \n",
       "3649           6  \n",
       "3650           0  \n",
       "3651           4  \n",
       "3652           0  \n",
       "\n",
       "[3653 rows x 20 columns]"
      ]
     },
     "execution_count": 7,
     "metadata": {},
     "output_type": "execute_result"
    }
   ],
   "source": [
    "df"
   ]
  },
  {
   "cell_type": "code",
   "execution_count": 9,
   "id": "d84fa272-d255-4a6d-a061-17ad80d51c7d",
   "metadata": {},
   "outputs": [
    {
     "data": {
      "text/plain": [
       "<Axes: >"
      ]
     },
     "execution_count": 9,
     "metadata": {},
     "output_type": "execute_result"
    },
    {
     "data": {
      "image/png": "[encoded data removed]",
      "text/plain": [
       "<Figure size 640x480 with 1 Axes>"
      ]
     },
     "metadata": {},
     "output_type": "display_data"
    }
   ],
   "source": [
    "df.Runs.plot(kind=\"box\")"
   ]
  },
  {
   "cell_type": "code",
   "execution_count": 13,
   "id": "4fbafaa5-efac-43ea-a0b4-e604a94f985d",
   "metadata": {},
   "outputs": [
    {
     "data": {
      "text/plain": [
       "<Axes: xlabel='Runs', ylabel='Density'>"
      ]
     },
     "execution_count": 13,
     "metadata": {},
     "output_type": "execute_result"
    },
    {
     "data": {
      "image/png": "[encoded data removed]",
      "text/plain": [
       "<Figure size 640x480 with 1 Axes>"
      ]
     },
     "metadata": {},
     "output_type": "display_data"
    }
   ],
   "source": [
    "sns.kdeplot(df , x=\"Runs\")"
   ]
  },
  {
   "cell_type": "code",
   "execution_count": 15,
   "id": "02e51733-04f1-4741-aa82-93b68fca14ca",
   "metadata": {},
   "outputs": [
    {
     "data": {
      "text/plain": [
       "<Axes: xlabel='Runs', ylabel='Count'>"
      ]
     },
     "execution_count": 15,
     "metadata": {},
     "output_type": "execute_result"
    },
    {
     "data": {
      "image/png": "[encoded data removed]",
      "text/plain": [
       "<Figure size 640x480 with 1 Axes>"
      ]
     },
     "metadata": {},
     "output_type": "display_data"
    }
   ],
   "source": [
    "sns.histplot(df,x=\"Runs\")"
   ]
  },
  {
   "cell_type": "code",
   "execution_count": 20,
   "id": "089d1d26-2d7e-4f3b-9fde-41c7798cfade",
   "metadata": {},
   "outputs": [
    {
     "data": {
      "text/html": [
       "<div>\n",
       "<style scoped>\n",
       "    .dataframe tbody tr th:only-of-type {\n",
       "        vertical-align: middle;\n",
       "    }\n",
       "\n",
       "    .dataframe tbody tr th {\n",
       "        vertical-align: top;\n",
       "    }\n",
       "\n",
       "    .dataframe thead th {\n",
       "        text-align: right;\n",
       "    }\n",
       "</style>\n",
       "<table border=\"1\" class=\"dataframe\">\n",
       "  <thead>\n",
       "    <tr style=\"text-align: right;\">\n",
       "      <th></th>\n",
       "      <th>Average</th>\n",
       "      <th>Strike_Rate</th>\n",
       "    </tr>\n",
       "  </thead>\n",
       "  <tbody>\n",
       "    <tr>\n",
       "      <th>Average</th>\n",
       "      <td>1.000000</td>\n",
       "      <td>-0.043134</td>\n",
       "    </tr>\n",
       "    <tr>\n",
       "      <th>Strike_Rate</th>\n",
       "      <td>-0.043134</td>\n",
       "      <td>1.000000</td>\n",
       "    </tr>\n",
       "  </tbody>\n",
       "</table>\n",
       "</div>"
      ],
      "text/plain": [
       "              Average  Strike_Rate\n",
       "Average      1.000000    -0.043134\n",
       "Strike_Rate -0.043134     1.000000"
      ]
     },
     "execution_count": 20,
     "metadata": {},
     "output_type": "execute_result"
    }
   ],
   "source": [
    "df[[\"Average\",\"Strike_Rate\"]].corr()"
   ]
  },
  {
   "cell_type": "code",
   "execution_count": 34,
   "id": "43ab0ba2-fd98-470f-b38d-9d86482fc958",
   "metadata": {},
   "outputs": [
    {
     "name": "stdin",
     "output_type": "stream",
     "text": [
      " 2\n"
     ]
    },
    {
     "name": "stdout",
     "output_type": "stream",
     "text": [
      "Prime\n"
     ]
    }
   ],
   "source": [
    "def prime_no(a=4):\n",
    "\n",
    "    count=0\n",
    "    for x in range(2,a):\n",
    "        \n",
    "        if a%x==0:\n",
    "            count+=1\n",
    "    if count>0:\n",
    "        print(\"not prime\")\n",
    "    else :\n",
    "        print(\"Prime\")\n",
    "a=int(input())\n",
    "prime_no(a)"
   ]
  },
  {
   "cell_type": "code",
   "execution_count": 36,
   "id": "3ceb5cf1-4b1d-4b07-adc9-9b256993a992",
   "metadata": {},
   "outputs": [],
   "source": [
    "import numpy as np"
   ]
  },
  {
   "cell_type": "code",
   "execution_count": 42,
   "id": "7d5bae29-0dac-446b-8382-b4ca78eb844b",
   "metadata": {},
   "outputs": [],
   "source": [
    "a=np.random.rand(30).reshape(5,6)"
   ]
  },
  {
   "cell_type": "code",
   "execution_count": 44,
   "id": "86c673ec-9beb-4667-b1ed-90332205e47e",
   "metadata": {},
   "outputs": [
    {
     "data": {
      "text/plain": [
       "array([[0.00316729, 0.36173559, 0.79141207, 0.51901838, 0.67445745,\n",
       "        0.82217043],\n",
       "       [0.23004279, 0.07102574, 0.91275467, 0.39112767, 0.42515939,\n",
       "        0.83409493],\n",
       "       [0.11071446, 0.96061487, 0.38843258, 0.45491043, 0.2367169 ,\n",
       "        0.3332495 ],\n",
       "       [0.5948172 , 0.93859212, 0.30118322, 0.98299939, 0.45888624,\n",
       "        0.11002993],\n",
       "       [0.28529803, 0.6154047 , 0.70707268, 0.22956469, 0.68364157,\n",
       "        0.9370505 ]])"
      ]
     },
     "execution_count": 44,
     "metadata": {},
     "output_type": "execute_result"
    }
   ],
   "source": [
    "a"
   ]
  },
  {
   "cell_type": "code",
   "execution_count": 46,
   "id": "c111fda7-bfdb-4f89-b7d3-4b5c6b3469b6",
   "metadata": {},
   "outputs": [
    {
     "data": {
      "text/plain": [
       "6"
      ]
     },
     "execution_count": 46,
     "metadata": {},
     "output_type": "execute_result"
    }
   ],
   "source": [
    "a=2\n",
    "b=4\n",
    "a|b"
   ]
  },
  {
   "cell_type": "code",
   "execution_count": 48,
   "id": "1fe9d78d-90f0-4310-81f9-29807b132fa7",
   "metadata": {},
   "outputs": [
    {
     "data": {
      "text/plain": [
       "1"
      ]
     },
     "execution_count": 48,
     "metadata": {},
     "output_type": "execute_result"
    }
   ],
   "source": [
    "a=2\n",
    "b=3\n",
    "a^b"
   ]
  },
  {
   "cell_type": "code",
   "execution_count": null,
   "id": "eec757d6-ee84-47f6-aa0e-f775cb0f1016",
   "metadata": {},
   "outputs": [],
   "source": []
  }
 ],
 "metadata": {
  "kernelspec": {
   "display_name": "Python 3 (ipykernel)",
   "language": "python",
   "name": "python3"
  },
  "language_info": {
   "codemirror_mode": {
    "name": "ipython",
    "version": 3
   },
   "file_extension": ".py",
   "mimetype": "text/x-python",
   "name": "python",
   "nbconvert_exporter": "python",
   "pygments_lexer": "ipython3",
   "version": "3.12.7"
  }
 },
 "nbformat": 4,
 "nbformat_minor": 5
}
