{
 "cells": [
  {
   "cell_type": "code",
   "execution_count": 41,
   "id": "7840d2b1-4e13-42d9-9d2a-320802b52a95",
   "metadata": {},
   "outputs": [],
   "source": [
    "import pandas as pd\n",
    "import numpy as np\n",
    "from sklearn.model_selection import train_test_split\n",
    "from sklearn.preprocessing import StandardScaler\n",
    "from sklearn import metrics\n",
    "from sklearn.linear_model import LinearRegression"
   ]
  },
  {
   "cell_type": "code",
   "execution_count": 43,
   "id": "b8bbb311-513e-4d83-8fe4-6245fa1995c1",
   "metadata": {},
   "outputs": [],
   "source": [
    "df=pd.read_csv(\"./T20.csv\")"
   ]
  },
  {
   "cell_type": "code",
   "execution_count": 45,
   "id": "e6e92425-eed7-43de-8331-1b6e0940749f",
   "metadata": {},
   "outputs": [
    {
     "data": {
      "text/html": [
       "<div>\n",
       "<style scoped>\n",
       "    .dataframe tbody tr th:only-of-type {\n",
       "        vertical-align: middle;\n",
       "    }\n",
       "\n",
       "    .dataframe tbody tr th {\n",
       "        vertical-align: top;\n",
       "    }\n",
       "\n",
       "    .dataframe thead th {\n",
       "        text-align: right;\n",
       "    }\n",
       "</style>\n",
       "<table border=\"1\" class=\"dataframe\">\n",
       "  <thead>\n",
       "    <tr style=\"text-align: right;\">\n",
       "      <th></th>\n",
       "      <th>Unnamed: 0</th>\n",
       "      <th>Country</th>\n",
       "      <th>Player</th>\n",
       "      <th>Span</th>\n",
       "      <th>Matches</th>\n",
       "      <th>Innings</th>\n",
       "      <th>Not_Out</th>\n",
       "      <th>Runs</th>\n",
       "      <th>Highest_score</th>\n",
       "      <th>Average</th>\n",
       "      <th>Ball_Faced</th>\n",
       "      <th>Strike_Rate</th>\n",
       "      <th>Hundreds</th>\n",
       "      <th>Fiftys</th>\n",
       "      <th>Zeros</th>\n",
       "      <th>Fours</th>\n",
       "      <th>Sixes</th>\n",
       "    </tr>\n",
       "  </thead>\n",
       "  <tbody>\n",
       "    <tr>\n",
       "      <th>0</th>\n",
       "      <td>0</td>\n",
       "      <td>India</td>\n",
       "      <td>Player</td>\n",
       "      <td>Span</td>\n",
       "      <td>Mat</td>\n",
       "      <td>Inns</td>\n",
       "      <td>NO</td>\n",
       "      <td>Runs</td>\n",
       "      <td>HS</td>\n",
       "      <td>Ave</td>\n",
       "      <td>BF</td>\n",
       "      <td>SR</td>\n",
       "      <td>100</td>\n",
       "      <td>50</td>\n",
       "      <td>0</td>\n",
       "      <td>4s</td>\n",
       "      <td>6s</td>\n",
       "    </tr>\n",
       "    <tr>\n",
       "      <th>1</th>\n",
       "      <td>1</td>\n",
       "      <td>India</td>\n",
       "      <td>RG Sharma</td>\n",
       "      <td>2007-2024</td>\n",
       "      <td>159</td>\n",
       "      <td>151</td>\n",
       "      <td>19</td>\n",
       "      <td>4231</td>\n",
       "      <td>121*</td>\n",
       "      <td>32.05</td>\n",
       "      <td>3003</td>\n",
       "      <td>140.89</td>\n",
       "      <td>5</td>\n",
       "      <td>32</td>\n",
       "      <td>12</td>\n",
       "      <td>383</td>\n",
       "      <td>205</td>\n",
       "    </tr>\n",
       "    <tr>\n",
       "      <th>2</th>\n",
       "      <td>2</td>\n",
       "      <td>India</td>\n",
       "      <td>V Kohli</td>\n",
       "      <td>2010-2024</td>\n",
       "      <td>125</td>\n",
       "      <td>117</td>\n",
       "      <td>31</td>\n",
       "      <td>4188</td>\n",
       "      <td>122*</td>\n",
       "      <td>48.69</td>\n",
       "      <td>3056</td>\n",
       "      <td>137.04</td>\n",
       "      <td>1</td>\n",
       "      <td>38</td>\n",
       "      <td>7</td>\n",
       "      <td>369</td>\n",
       "      <td>124</td>\n",
       "    </tr>\n",
       "    <tr>\n",
       "      <th>3</th>\n",
       "      <td>3</td>\n",
       "      <td>India</td>\n",
       "      <td>SA Yadav</td>\n",
       "      <td>2021-2025</td>\n",
       "      <td>83</td>\n",
       "      <td>79</td>\n",
       "      <td>11</td>\n",
       "      <td>2598</td>\n",
       "      <td>117</td>\n",
       "      <td>38.20</td>\n",
       "      <td>1555</td>\n",
       "      <td>167.07</td>\n",
       "      <td>4</td>\n",
       "      <td>21</td>\n",
       "      <td>5</td>\n",
       "      <td>237</td>\n",
       "      <td>146</td>\n",
       "    </tr>\n",
       "    <tr>\n",
       "      <th>4</th>\n",
       "      <td>4</td>\n",
       "      <td>India</td>\n",
       "      <td>KL Rahul</td>\n",
       "      <td>2016-2022</td>\n",
       "      <td>72</td>\n",
       "      <td>68</td>\n",
       "      <td>8</td>\n",
       "      <td>2265</td>\n",
       "      <td>110*</td>\n",
       "      <td>37.75</td>\n",
       "      <td>1628</td>\n",
       "      <td>139.12</td>\n",
       "      <td>2</td>\n",
       "      <td>22</td>\n",
       "      <td>5</td>\n",
       "      <td>191</td>\n",
       "      <td>99</td>\n",
       "    </tr>\n",
       "    <tr>\n",
       "      <th>...</th>\n",
       "      <td>...</td>\n",
       "      <td>...</td>\n",
       "      <td>...</td>\n",
       "      <td>...</td>\n",
       "      <td>...</td>\n",
       "      <td>...</td>\n",
       "      <td>...</td>\n",
       "      <td>...</td>\n",
       "      <td>...</td>\n",
       "      <td>...</td>\n",
       "      <td>...</td>\n",
       "      <td>...</td>\n",
       "      <td>...</td>\n",
       "      <td>...</td>\n",
       "      <td>...</td>\n",
       "      <td>...</td>\n",
       "      <td>...</td>\n",
       "    </tr>\n",
       "    <tr>\n",
       "      <th>919</th>\n",
       "      <td>919</td>\n",
       "      <td>Afghanistan</td>\n",
       "      <td>Dawlat Ahmadzai</td>\n",
       "      <td>2010-2010</td>\n",
       "      <td>2</td>\n",
       "      <td>1</td>\n",
       "      <td>1</td>\n",
       "      <td>2</td>\n",
       "      <td>2*</td>\n",
       "      <td>-</td>\n",
       "      <td>3</td>\n",
       "      <td>66.66</td>\n",
       "      <td>-</td>\n",
       "      <td>-</td>\n",
       "      <td>-</td>\n",
       "      <td>0</td>\n",
       "      <td>0</td>\n",
       "    </tr>\n",
       "    <tr>\n",
       "      <th>920</th>\n",
       "      <td>920</td>\n",
       "      <td>Afghanistan</td>\n",
       "      <td>Aftab Alam</td>\n",
       "      <td>2012-2018</td>\n",
       "      <td>12</td>\n",
       "      <td>5</td>\n",
       "      <td>3</td>\n",
       "      <td>2</td>\n",
       "      <td>1*</td>\n",
       "      <td>1.00</td>\n",
       "      <td>9</td>\n",
       "      <td>22.22</td>\n",
       "      <td>-</td>\n",
       "      <td>-</td>\n",
       "      <td>1</td>\n",
       "      <td>0</td>\n",
       "      <td>0</td>\n",
       "    </tr>\n",
       "    <tr>\n",
       "      <th>921</th>\n",
       "      <td>921</td>\n",
       "      <td>Afghanistan</td>\n",
       "      <td>Yamin Ahmadzai</td>\n",
       "      <td>2015-2015</td>\n",
       "      <td>2</td>\n",
       "      <td>1</td>\n",
       "      <td>1</td>\n",
       "      <td>1</td>\n",
       "      <td>1*</td>\n",
       "      <td>-</td>\n",
       "      <td>1</td>\n",
       "      <td>100.00</td>\n",
       "      <td>-</td>\n",
       "      <td>-</td>\n",
       "      <td>-</td>\n",
       "      <td>0</td>\n",
       "      <td>0</td>\n",
       "    </tr>\n",
       "    <tr>\n",
       "      <th>922</th>\n",
       "      <td>922</td>\n",
       "      <td>Afghanistan</td>\n",
       "      <td>Sayed Shirzad</td>\n",
       "      <td>2015-2019</td>\n",
       "      <td>4</td>\n",
       "      <td>1</td>\n",
       "      <td>-</td>\n",
       "      <td>1</td>\n",
       "      <td>1</td>\n",
       "      <td>1.00</td>\n",
       "      <td>2</td>\n",
       "      <td>50.00</td>\n",
       "      <td>-</td>\n",
       "      <td>-</td>\n",
       "      <td>-</td>\n",
       "      <td>0</td>\n",
       "      <td>0</td>\n",
       "    </tr>\n",
       "    <tr>\n",
       "      <th>923</th>\n",
       "      <td>923</td>\n",
       "      <td>Afghanistan</td>\n",
       "      <td>M Nasim Baras</td>\n",
       "      <td>2015-2015</td>\n",
       "      <td>3</td>\n",
       "      <td>1</td>\n",
       "      <td>-</td>\n",
       "      <td>1</td>\n",
       "      <td>1</td>\n",
       "      <td>1.00</td>\n",
       "      <td>2</td>\n",
       "      <td>50.00</td>\n",
       "      <td>-</td>\n",
       "      <td>-</td>\n",
       "      <td>-</td>\n",
       "      <td>0</td>\n",
       "      <td>0</td>\n",
       "    </tr>\n",
       "  </tbody>\n",
       "</table>\n",
       "<p>924 rows × 17 columns</p>\n",
       "</div>"
      ],
      "text/plain": [
       "     Unnamed: 0      Country           Player       Span Matches Innings  \\\n",
       "0             0        India           Player       Span     Mat    Inns   \n",
       "1             1        India        RG Sharma  2007-2024     159     151   \n",
       "2             2        India          V Kohli  2010-2024     125     117   \n",
       "3             3        India         SA Yadav  2021-2025      83      79   \n",
       "4             4        India         KL Rahul  2016-2022      72      68   \n",
       "..          ...          ...              ...        ...     ...     ...   \n",
       "919         919  Afghanistan  Dawlat Ahmadzai  2010-2010       2       1   \n",
       "920         920  Afghanistan       Aftab Alam  2012-2018      12       5   \n",
       "921         921  Afghanistan   Yamin Ahmadzai  2015-2015       2       1   \n",
       "922         922  Afghanistan    Sayed Shirzad  2015-2019       4       1   \n",
       "923         923  Afghanistan    M Nasim Baras  2015-2015       3       1   \n",
       "\n",
       "    Not_Out  Runs Highest_score Average Ball_Faced Strike_Rate Hundreds  \\\n",
       "0        NO  Runs            HS     Ave         BF          SR      100   \n",
       "1        19  4231          121*   32.05       3003      140.89        5   \n",
       "2        31  4188          122*   48.69       3056      137.04        1   \n",
       "3        11  2598           117   38.20       1555      167.07        4   \n",
       "4         8  2265          110*   37.75       1628      139.12        2   \n",
       "..      ...   ...           ...     ...        ...         ...      ...   \n",
       "919       1     2            2*       -          3       66.66        -   \n",
       "920       3     2            1*    1.00          9       22.22        -   \n",
       "921       1     1            1*       -          1      100.00        -   \n",
       "922       -     1             1    1.00          2       50.00        -   \n",
       "923       -     1             1    1.00          2       50.00        -   \n",
       "\n",
       "    Fiftys Zeros Fours Sixes  \n",
       "0       50     0    4s    6s  \n",
       "1       32    12   383   205  \n",
       "2       38     7   369   124  \n",
       "3       21     5   237   146  \n",
       "4       22     5   191    99  \n",
       "..     ...   ...   ...   ...  \n",
       "919      -     -     0     0  \n",
       "920      -     1     0     0  \n",
       "921      -     -     0     0  \n",
       "922      -     -     0     0  \n",
       "923      -     -     0     0  \n",
       "\n",
       "[924 rows x 17 columns]"
      ]
     },
     "execution_count": 45,
     "metadata": {},
     "output_type": "execute_result"
    }
   ],
   "source": [
    "df"
   ]
  },
  {
   "cell_type": "code",
   "execution_count": 47,
   "id": "2840c9b5-8c2c-4cdd-8599-fde047e30971",
   "metadata": {},
   "outputs": [],
   "source": [
    "cols = ['Matches', 'Innings',\"Runs\", 'Not_Out', 'Average', 'Ball_Faced',\n",
    "        'Strike_Rate', 'Hundreds', 'Fiftys', 'Zeros', 'Fours', 'Sixes']\n",
    "\n",
    "df[cols] = df[cols].apply(pd.to_numeric, errors='coerce')\n"
   ]
  },
  {
   "cell_type": "code",
   "execution_count": 49,
   "id": "edc832b4-443c-4fc0-85fd-d9a3f75c9116",
   "metadata": {},
   "outputs": [],
   "source": [
    "df.fillna(0,inplace=True)"
   ]
  },
  {
   "cell_type": "code",
   "execution_count": 51,
   "id": "fc87c16d-1896-4a0c-afde-9bbf3d0f15ec",
   "metadata": {},
   "outputs": [
    {
     "name": "stdout",
     "output_type": "stream",
     "text": [
      "<class 'pandas.core.frame.DataFrame'>\n",
      "RangeIndex: 924 entries, 0 to 923\n",
      "Data columns (total 17 columns):\n",
      " #   Column         Non-Null Count  Dtype  \n",
      "---  ------         --------------  -----  \n",
      " 0   Unnamed: 0     924 non-null    int64  \n",
      " 1   Country        924 non-null    object \n",
      " 2   Player         924 non-null    object \n",
      " 3   Span           924 non-null    object \n",
      " 4   Matches        924 non-null    float64\n",
      " 5   Innings        924 non-null    float64\n",
      " 6   Not_Out        924 non-null    float64\n",
      " 7   Runs           924 non-null    float64\n",
      " 8   Highest_score  924 non-null    object \n",
      " 9   Average        924 non-null    float64\n",
      " 10  Ball_Faced     924 non-null    float64\n",
      " 11  Strike_Rate    924 non-null    float64\n",
      " 12  Hundreds       924 non-null    float64\n",
      " 13  Fiftys         924 non-null    float64\n",
      " 14  Zeros          924 non-null    float64\n",
      " 15  Fours          924 non-null    float64\n",
      " 16  Sixes          924 non-null    float64\n",
      "dtypes: float64(12), int64(1), object(4)\n",
      "memory usage: 122.8+ KB\n"
     ]
    }
   ],
   "source": [
    "df.info()"
   ]
  },
  {
   "cell_type": "code",
   "execution_count": 53,
   "id": "9c4df313-35fd-4b9f-b341-b892a89607d4",
   "metadata": {},
   "outputs": [],
   "source": [
    "x=df[['Matches', 'Innings',\n",
    "       'Not_Out', 'Average', 'Ball_Faced',\n",
    "       'Strike_Rate', 'Hundreds', 'Fiftys', 'Zeros', 'Fours', 'Sixes']]\n",
    "y=df[\"Runs\"]"
   ]
  },
  {
   "cell_type": "code",
   "execution_count": 55,
   "id": "15ea567a-fe16-4346-8756-808a337ea916",
   "metadata": {},
   "outputs": [],
   "source": [
    "xt,xtt,yt,ytt=train_test_split(x,y,train_size=0.80,random_state=2)"
   ]
  },
  {
   "cell_type": "code",
   "execution_count": 57,
   "id": "f86e68cb-d732-4820-99ec-2f4a8eeae350",
   "metadata": {},
   "outputs": [],
   "source": [
    "s=StandardScaler()\n",
    "xt_t=pd.DataFrame(s.fit_transform(xt),columns=s.get_feature_names_out())\n",
    "xtt_t=pd.DataFrame(s.transform(xtt),columns=s.get_feature_names_out())"
   ]
  },
  {
   "cell_type": "code",
   "execution_count": 59,
   "id": "b341f313-669b-45df-9388-538a4bad5d28",
   "metadata": {},
   "outputs": [
    {
     "data": {
      "text/plain": [
       "12.889511852805784"
      ]
     },
     "execution_count": 59,
     "metadata": {},
     "output_type": "execute_result"
    }
   ],
   "source": [
    "l=LinearRegression()\n",
    "l.fit(xt_t,yt)\n",
    "predict=l.predict(xtt_t)\n",
    "metrics.mean_absolute_error(ytt,predict)"
   ]
  },
  {
   "cell_type": "code",
   "execution_count": 61,
   "id": "ffe4547d-0443-4c8f-8580-4b6f7ec9532d",
   "metadata": {},
   "outputs": [],
   "source": [
    "df=pd.DataFrame({\"Actual\" : ytt,\"LinearRegression\":predict})"
   ]
  },
  {
   "cell_type": "code",
   "execution_count": 63,
   "id": "8c30b879-9e40-40cb-ba56-b7a6fd3fd240",
   "metadata": {},
   "outputs": [
    {
     "data": {
      "text/plain": [
       "35.0"
      ]
     },
     "execution_count": 63,
     "metadata": {},
     "output_type": "execute_result"
    }
   ],
   "source": [
    "from sklearn.neighbors import KNeighborsRegressor\n",
    "knn=KNeighborsRegressor()\n",
    "knn.fit(xt_t,yt)\n",
    "predict=knn.predict(xtt_t)\n",
    "metrics.mean_absolute_error(ytt,predict)"
   ]
  },
  {
   "cell_type": "code",
   "execution_count": 65,
   "id": "f6eaa42c-5b1c-4e98-ae0b-a3f1eab175c8",
   "metadata": {},
   "outputs": [
    {
     "data": {
      "text/plain": [
       "array([2.2660e+02, 4.3400e+01, 6.2000e+00, 6.0600e+01, 1.7560e+02,\n",
       "       3.5400e+01, 9.3400e+01, 1.1766e+03, 1.6000e+00, 1.5200e+01,\n",
       "       1.7076e+03, 7.0940e+02, 1.7600e+01, 4.3800e+01, 9.6800e+01,\n",
       "       2.5600e+01, 9.7740e+02, 6.9000e+01, 1.6000e+00, 3.3720e+03,\n",
       "       1.2320e+02, 1.0948e+03, 5.3320e+02, 1.2800e+01, 1.5960e+02,\n",
       "       4.6000e+01, 5.8800e+02, 1.1080e+02, 5.9000e+01, 4.8240e+02,\n",
       "       1.5600e+01, 3.0000e+01, 4.2000e+00, 7.0000e+00, 1.9600e+01,\n",
       "       1.0720e+02, 1.1394e+03, 2.6000e+00, 1.5400e+01, 1.3400e+01,\n",
       "       3.6460e+02, 4.2000e+00, 1.2800e+01, 3.3200e+01, 7.1400e+01,\n",
       "       1.6160e+02, 3.0600e+01, 7.2880e+02, 3.1400e+01, 1.8200e+01,\n",
       "       2.3200e+01, 2.3780e+02, 1.7000e+01, 2.4200e+01, 8.2200e+01,\n",
       "       7.6200e+01, 9.1200e+01, 2.0000e+00, 1.8700e+03, 1.0000e+00,\n",
       "       2.8400e+01, 4.0000e+00, 5.5380e+02, 1.5800e+01, 3.6400e+01,\n",
       "       7.5060e+02, 5.4040e+02, 1.8164e+03, 1.1600e+01, 1.0340e+02,\n",
       "       4.2800e+01, 8.5200e+01, 3.5800e+01, 3.0280e+02, 4.5160e+02,\n",
       "       2.6400e+01, 1.2480e+02, 1.8220e+02, 1.2440e+03, 2.6300e+02,\n",
       "       2.2140e+02, 7.6000e+00, 3.2600e+01, 1.1320e+02, 3.1000e+01,\n",
       "       1.6600e+01, 5.8000e+00, 6.3920e+02, 3.1400e+01, 1.3338e+03,\n",
       "       1.6196e+03, 8.3400e+01, 1.0296e+03, 1.3100e+02, 3.8400e+01,\n",
       "       5.0200e+01, 2.5820e+02, 4.4600e+01, 2.0550e+03, 1.3114e+03,\n",
       "       4.7200e+01, 6.6000e+00, 4.6000e+00, 3.4100e+02, 8.2600e+01,\n",
       "       8.6000e+00, 3.6720e+02, 5.8000e+00, 1.3400e+01, 8.6760e+02,\n",
       "       4.2800e+01, 5.0000e+00, 1.1400e+01, 8.6000e+00, 2.2840e+02,\n",
       "       5.8980e+02, 4.6800e+01, 1.0760e+02, 4.1800e+01, 2.8200e+01,\n",
       "       3.0400e+01, 3.2000e+00, 1.5400e+01, 1.2784e+03, 2.0000e+00,\n",
       "       3.2400e+01, 3.9400e+01, 2.8000e+00, 4.8260e+02, 7.0000e+00,\n",
       "       7.1000e+01, 4.4280e+02, 1.2760e+02, 6.4640e+02, 1.2000e+00,\n",
       "       1.9800e+01, 4.5600e+01, 3.9800e+01, 1.6980e+02, 9.2700e+02,\n",
       "       1.3360e+02, 2.6600e+01, 6.3400e+01, 1.7582e+03, 1.9200e+01,\n",
       "       6.2520e+02, 1.8480e+02, 1.0120e+02, 1.0620e+02, 1.5200e+01,\n",
       "       1.9284e+03, 6.8000e+00, 9.4000e+00, 1.0420e+02, 2.0160e+03,\n",
       "       2.1800e+01, 3.9000e+01, 2.2000e+00, 2.4530e+03, 1.8120e+02,\n",
       "       2.9100e+02, 1.0000e+00, 2.7200e+01, 1.5200e+01, 2.1120e+02,\n",
       "       7.0000e+00, 1.6000e+00, 2.0000e+00, 5.0400e+01, 6.4360e+02,\n",
       "       9.3400e+01, 6.8480e+02, 1.8360e+02, 5.4280e+02, 4.5560e+02,\n",
       "       7.7200e+01, 4.0120e+02, 5.5000e+01, 5.3400e+01, 1.3128e+03,\n",
       "       2.0000e+00, 2.8620e+02, 3.9540e+02, 1.0200e+01, 1.3892e+03])"
      ]
     },
     "execution_count": 65,
     "metadata": {},
     "output_type": "execute_result"
    }
   ],
   "source": [
    "predict"
   ]
  },
  {
   "cell_type": "code",
   "execution_count": 67,
   "id": "74e3a0e9-29ff-4b4f-957a-587376856755",
   "metadata": {},
   "outputs": [],
   "source": [
    "df[\"KNN_Regression\"]=predict"
   ]
  },
  {
   "cell_type": "code",
   "execution_count": 69,
   "id": "e093d081-ac07-4c9f-afe6-1736d3a39bbf",
   "metadata": {},
   "outputs": [
    {
     "data": {
      "text/html": [
       "<div>\n",
       "<style scoped>\n",
       "    .dataframe tbody tr th:only-of-type {\n",
       "        vertical-align: middle;\n",
       "    }\n",
       "\n",
       "    .dataframe tbody tr th {\n",
       "        vertical-align: top;\n",
       "    }\n",
       "\n",
       "    .dataframe thead th {\n",
       "        text-align: right;\n",
       "    }\n",
       "</style>\n",
       "<table border=\"1\" class=\"dataframe\">\n",
       "  <thead>\n",
       "    <tr style=\"text-align: right;\">\n",
       "      <th></th>\n",
       "      <th>Actual</th>\n",
       "      <th>LinearRegression</th>\n",
       "      <th>KNN_Regression</th>\n",
       "    </tr>\n",
       "  </thead>\n",
       "  <tbody>\n",
       "    <tr>\n",
       "      <th>305</th>\n",
       "      <td>281.0</td>\n",
       "      <td>288.220467</td>\n",
       "      <td>226.6</td>\n",
       "    </tr>\n",
       "    <tr>\n",
       "      <th>907</th>\n",
       "      <td>33.0</td>\n",
       "      <td>29.740037</td>\n",
       "      <td>43.4</td>\n",
       "    </tr>\n",
       "    <tr>\n",
       "      <th>571</th>\n",
       "      <td>3.0</td>\n",
       "      <td>2.848961</td>\n",
       "      <td>6.2</td>\n",
       "    </tr>\n",
       "    <tr>\n",
       "      <th>231</th>\n",
       "      <td>128.0</td>\n",
       "      <td>128.352235</td>\n",
       "      <td>60.6</td>\n",
       "    </tr>\n",
       "    <tr>\n",
       "      <th>811</th>\n",
       "      <td>193.0</td>\n",
       "      <td>203.319726</td>\n",
       "      <td>175.6</td>\n",
       "    </tr>\n",
       "    <tr>\n",
       "      <th>...</th>\n",
       "      <td>...</td>\n",
       "      <td>...</td>\n",
       "      <td>...</td>\n",
       "    </tr>\n",
       "    <tr>\n",
       "      <th>671</th>\n",
       "      <td>2.0</td>\n",
       "      <td>-5.027169</td>\n",
       "      <td>2.0</td>\n",
       "    </tr>\n",
       "    <tr>\n",
       "      <th>595</th>\n",
       "      <td>334.0</td>\n",
       "      <td>324.046249</td>\n",
       "      <td>286.2</td>\n",
       "    </tr>\n",
       "    <tr>\n",
       "      <th>701</th>\n",
       "      <td>291.0</td>\n",
       "      <td>337.410615</td>\n",
       "      <td>395.4</td>\n",
       "    </tr>\n",
       "    <tr>\n",
       "      <th>272</th>\n",
       "      <td>4.0</td>\n",
       "      <td>1.251968</td>\n",
       "      <td>10.2</td>\n",
       "    </tr>\n",
       "    <tr>\n",
       "      <th>682</th>\n",
       "      <td>1511.0</td>\n",
       "      <td>1578.423135</td>\n",
       "      <td>1389.2</td>\n",
       "    </tr>\n",
       "  </tbody>\n",
       "</table>\n",
       "<p>185 rows × 3 columns</p>\n",
       "</div>"
      ],
      "text/plain": [
       "     Actual  LinearRegression  KNN_Regression\n",
       "305   281.0        288.220467           226.6\n",
       "907    33.0         29.740037            43.4\n",
       "571     3.0          2.848961             6.2\n",
       "231   128.0        128.352235            60.6\n",
       "811   193.0        203.319726           175.6\n",
       "..      ...               ...             ...\n",
       "671     2.0         -5.027169             2.0\n",
       "595   334.0        324.046249           286.2\n",
       "701   291.0        337.410615           395.4\n",
       "272     4.0          1.251968            10.2\n",
       "682  1511.0       1578.423135          1389.2\n",
       "\n",
       "[185 rows x 3 columns]"
      ]
     },
     "execution_count": 69,
     "metadata": {},
     "output_type": "execute_result"
    }
   ],
   "source": [
    "df"
   ]
  },
  {
   "cell_type": "code",
   "execution_count": 71,
   "id": "b16e0dea-28d8-49ee-aa98-edc5f05057b4",
   "metadata": {},
   "outputs": [
    {
     "data": {
      "text/plain": [
       "23.167567567567566"
      ]
     },
     "execution_count": 71,
     "metadata": {},
     "output_type": "execute_result"
    }
   ],
   "source": [
    "from sklearn.tree import DecisionTreeRegressor\n",
    "DT=DecisionTreeRegressor()\n",
    "DT.fit(xt_t,yt)\n",
    "predict=DT.predict(xtt_t)\n",
    "metrics.mean_absolute_error(ytt,predict)"
   ]
  },
  {
   "cell_type": "code",
   "execution_count": 87,
   "id": "b355938b-9d62-4a0b-a1ba-11f198228c9b",
   "metadata": {},
   "outputs": [
    {
     "name": "stderr",
     "output_type": "stream",
     "text": [
      "C:\\ProgramData\\anaconda3\\Lib\\site-packages\\sklearn\\base.py:493: UserWarning: X does not have valid feature names, but RandomForestRegressor was fitted with feature names\n",
      "  warnings.warn(\n"
     ]
    },
    {
     "data": {
      "text/plain": [
       "array([4116.9])"
      ]
     },
     "execution_count": 87,
     "metadata": {},
     "output_type": "execute_result"
    }
   ],
   "source": [
    "from sklearn.ensemble import RandomForestRegressor\n",
    "rfr=RandomForestRegressor()\n",
    "rfr.fit(xt_t,yt)\n",
    "predict=rfr.predict([[125.0\t,117.0\t,31.0\t,\t48.69\t,3056.0\t,137.04,\t1.0,\t38.0\t,7.0\t,369.0,\t124.0]])\n",
    "# metrics.mean_absolute_error(ytt,predict)\n",
    "predict"
   ]
  },
  {
   "cell_type": "code",
   "execution_count": 85,
   "id": "cf176a56-47dd-4e7f-ae0a-3c1adac7a694",
   "metadata": {},
   "outputs": [
    {
     "data": {
      "text/plain": [
       "12.889511852805784"
      ]
     },
     "execution_count": 85,
     "metadata": {},
     "output_type": "execute_result"
    }
   ],
   "source": [
    "from sklearn.linear_model import LinearRegression\n",
    "l=LinearRegression()\n",
    "l.fit(xt_t,yt)\n",
    "predict=l.predict(xtt_t)\n",
    "metrics.mean_absolute_error(ytt,predict)\n"
   ]
  },
  {
   "cell_type": "code",
   "execution_count": 35,
   "id": "5ce31eed-7e1e-413f-a117-b058abc71fef",
   "metadata": {},
   "outputs": [
    {
     "data": {
      "text/plain": [
       "[125.0, 117.0, 31.0, 48.69, 3056.0, 137.04, 1.0, 38.0, 7.0, 369.0, 124.0]"
      ]
     },
     "execution_count": 35,
     "metadata": {},
     "output_type": "execute_result"
    }
   ],
   "source": [
    "[125.0\t,117.0\t,31.0\t,\t48.69\t,3056.0\t,137.04,\t1.0,\t38.0\t,7.0\t,369.0,\t124.0]"
   ]
  },
  {
   "cell_type": "code",
   "execution_count": null,
   "id": "89bebf2b-f229-419a-b958-415cb3d42e31",
   "metadata": {},
   "outputs": [],
   "source": [
    "159\t,151,\t19,\t\t32.05\t,3003\t,140.89\t,5\t,32\t,12,\t383\t,205  =4104"
   ]
  },
  {
   "cell_type": "code",
   "execution_count": null,
   "id": "afd428d1-4f2f-4c04-b73b-1b401b6b75b7",
   "metadata": {},
   "outputs": [],
   "source": [
    "[['Matches', 'Innings',\n",
    "       'Not_Out', 'Average', 'Ball_Faced',\n",
    "       'Strike_Rate', 'Hundreds', 'Fiftys', 'Zeros', 'Fours', 'Sixes']]"
   ]
  }
 ],
 "metadata": {
  "kernelspec": {
   "display_name": "Python 3 (ipykernel)",
   "language": "python",
   "name": "python3"
  },
  "language_info": {
   "codemirror_mode": {
    "name": "ipython",
    "version": 3
   },
   "file_extension": ".py",
   "mimetype": "text/x-python",
   "name": "python",
   "nbconvert_exporter": "python",
   "pygments_lexer": "ipython3",
   "version": "3.12.7"
  }
 },
 "nbformat": 4,
 "nbformat_minor": 5
}
